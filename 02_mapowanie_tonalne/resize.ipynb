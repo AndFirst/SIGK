{
 "cells": [
  {
   "cell_type": "code",
   "execution_count": null,
   "metadata": {},
   "outputs": [],
   "source": [
    "import os\n",
    "\n",
    "import cv2\n",
    "\n",
    "\n",
    "def resize_exr(file_path: str, output_path: str, size: tuple[int, int]):\n",
    "    image = cv2.imread(file_path, flags=cv2.IMREAD_ANYCOLOR | cv2.IMREAD_ANYDEPTH)   \n",
    "    image_resized = cv2.resize(image, size, interpolation=cv2.INTER_AREA)   \n",
    "    cv2.imwrite(output_path, image_resized)\n",
    "\n",
    "\n",
    "def resize_dataset(input_dir: str, output_dir: str, size: tuple[int, int]):\n",
    "    for root, dirs, files in os.walk(input_dir):\n",
    "        for file in files:\n",
    "            if file.endswith(\".exr\"):\n",
    "                file_path = os.path.join(root, file)\n",
    "                output_path = os.path.join(output_dir, file)\n",
    "                resize_exr(file_path, output_path, size)\n",
    "\n",
    "os.environ['OPENCV_IO_ENABLE_OPENEXR'] = \"1\"\n",
    "output_dir = \"data_resized\"\n",
    "input_dir = \"data\"\n",
    "image_size = (256, 256)\n",
    "if not os.path.exists(output_dir):\n",
    "    os.makedirs(output_dir)\n",
    "    resize_dataset(input_dir, output_dir, image_size)\n"
   ]
  }
 ],
 "metadata": {
  "kernelspec": {
   "display_name": ".venv",
   "language": "python",
   "name": "python3"
  },
  "language_info": {
   "codemirror_mode": {
    "name": "ipython",
    "version": 3
   },
   "file_extension": ".py",
   "mimetype": "text/x-python",
   "name": "python",
   "nbconvert_exporter": "python",
   "pygments_lexer": "ipython3",
   "version": "3.12.3"
  }
 },
 "nbformat": 4,
 "nbformat_minor": 2
}
